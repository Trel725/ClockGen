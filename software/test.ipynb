{
 "cells": [
  {
   "cell_type": "code",
   "execution_count": 42,
   "id": "cb3cea0e",
   "metadata": {},
   "outputs": [],
   "source": [
    "import serial\n",
    "\n",
    "from clockgen import Timer, Periph, ProgramGen, hw_desc\n",
    "from clockgen.interface import TIM, GPIO\n",
    "from clockgen.utils import send_program, start_execution\n"
   ]
  },
  {
   "cell_type": "code",
   "execution_count": 281,
   "id": "0a0506ff",
   "metadata": {},
   "outputs": [],
   "source": [
    "ser = serial.Serial(\"/dev/ttyACM0\", baudrate=1000000, timeout=5)"
   ]
  },
  {
   "cell_type": "code",
   "execution_count": 275,
   "id": "71526f1a",
   "metadata": {
    "scrolled": false
   },
   "outputs": [
    {
     "name": "stdout",
     "output_type": "stream",
     "text": [
      "Found timer TIM3, pin: d4, port: pb5\n",
      "Found timer TIM8, pin: d9, port: pc7\n",
      "Found GPIOA\n",
      "@ 120\n",
      "    GPIOA->ODR          :0x40020014:0x10\n",
      "@ 150\n",
      "    GPIOA->ODR          :0x40020014:0x0\n"
     ]
    }
   ],
   "source": [
    "tim1 = TIM(\"d4\")\n",
    "tim2 = TIM(\"d9\")\n",
    "\n",
    "tim1.on_sync(20_000, 100)\n",
    "tim2.on_sync(10_000, 100)\n",
    "\n",
    "tim1.start_sync(100)\n",
    "\n",
    "gp = GPIO(\"gpioa\")\n",
    "\n",
    "gp.on([4,], 120)\n",
    "gp.off([4,], 150)\n",
    "\n",
    "tim1.off_sync(1000)\n",
    "tim2.off_sync(1000)\n",
    "\n",
    "\n",
    "pg = ProgramGen()\n",
    "\n",
    "prog = pg.generate_program([gp])#, tim2, tim3, gp])\n",
    "\n",
    "pg.print_program()"
   ]
  },
  {
   "cell_type": "code",
   "execution_count": 673,
   "id": "83ff00cd",
   "metadata": {},
   "outputs": [
    {
     "name": "stdout",
     "output_type": "stream",
     "text": [
      "Found timer TIM2, pin: d6, port: pb10\n",
      "Found timer TIM3, pin: d4, port: pb5\n",
      "@ 90\n",
      "    TIM2->CR1           :0x40000000:0x0\n",
      "    TIM2->CCMR2_Output  :0x4000001c:0x30\n",
      "    TIM2->CCER          :0x40000020:0x100\n",
      "    TIM2->CNT           :0x40000024:0x1387\n",
      "    TIM2->ARR           :0x4000002c:0x1387\n",
      "    TIM3->CR1           :0x40000400:0x0\n",
      "    TIM3->CCMR1_Output  :0x40000418:0x3000\n",
      "    TIM3->CCER          :0x40000420:0x10\n",
      "    TIM3->CNT           :0x40000424:0x9c3\n",
      "    TIM3->ARR           :0x4000042c:0x9c3\n",
      "@ 100\n",
      "    TIM1->CR1           :0x40010000:0x1\n",
      "@ 101\n",
      "    TIM1->CR1           :0x40010000:0x0\n",
      "@ 1000\n",
      "    TIM2->CR1           :0x40000000:0x0\n",
      "    TIM2->CCMR2_Output  :0x4000001c:0x40\n",
      "    TIM3->CR1           :0x40000400:0x0\n",
      "    TIM3->CCMR1_Output  :0x40000418:0x4000\n"
     ]
    }
   ],
   "source": [
    "tim1 = TIM(\"tim2\")\n",
    "tim2 = TIM(\"tim3\")\n",
    "\n",
    "tim1.on_sync(8_000, 100)\n",
    "tim2.on_sync(16_000, 100)\n",
    "\n",
    "tim1.start_sync(100)\n",
    "\n",
    "# gp = GPIO(\"gpioa\")\n",
    "\n",
    "# gp.on([4,], 120)\n",
    "# gp.off([4,], 150)\n",
    "\n",
    "# tim1.change_freq(40_000, 600)\n",
    "# tim2.change_freq(40_000, 600)\n",
    "\n",
    "\n",
    "tim1.off_sync(1000)\n",
    "tim2.off_sync(1000)\n",
    "\n",
    "\n",
    "pg = ProgramGen()\n",
    "\n",
    "prog = pg.generate_program([tim1, tim2])#, tim2, tim3, gp])\n",
    "\n",
    "pg.print_program()"
   ]
  },
  {
   "cell_type": "code",
   "execution_count": 691,
   "id": "8c3ccbb2",
   "metadata": {},
   "outputs": [],
   "source": [
    "send_program(ser, prog); start_execution(ser)"
   ]
  },
  {
   "cell_type": "code",
   "execution_count": null,
   "id": "1e0d09cf",
   "metadata": {},
   "outputs": [],
   "source": []
  }
 ],
 "metadata": {
  "kernelspec": {
   "display_name": "Python 3",
   "language": "python",
   "name": "python3"
  },
  "language_info": {
   "codemirror_mode": {
    "name": "ipython",
    "version": 3
   },
   "file_extension": ".py",
   "mimetype": "text/x-python",
   "name": "python",
   "nbconvert_exporter": "python",
   "pygments_lexer": "ipython3",
   "version": "3.8.5"
  }
 },
 "nbformat": 4,
 "nbformat_minor": 5
}
