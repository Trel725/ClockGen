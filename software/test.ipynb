{
 "cells": [
  {
   "cell_type": "code",
   "execution_count": 3,
   "id": "cb3cea0e",
   "metadata": {},
   "outputs": [],
   "source": [
    "import serial\n",
    "\n",
    "from clockgen import ProgramGen\n",
    "from clockgen.interface import TIM, GPIO\n",
    "from clockgen.utils import send_program, start_execution\n"
   ]
  },
  {
   "cell_type": "code",
   "execution_count": 2,
   "id": "0a0506ff",
   "metadata": {},
   "outputs": [
    {
     "ename": "NameError",
     "evalue": "name 'serial' is not defined",
     "output_type": "error",
     "traceback": [
      "\u001b[0;31m---------------------------------------------------------------------------\u001b[0m",
      "\u001b[0;31mNameError\u001b[0m                                 Traceback (most recent call last)",
      "\u001b[0;32m<ipython-input-2-bc72cb93fb39>\u001b[0m in \u001b[0;36m<module>\u001b[0;34m\u001b[0m\n\u001b[0;32m----> 1\u001b[0;31m \u001b[0mser\u001b[0m \u001b[0;34m=\u001b[0m \u001b[0mserial\u001b[0m\u001b[0;34m.\u001b[0m\u001b[0mSerial\u001b[0m\u001b[0;34m(\u001b[0m\u001b[0;34m\"/dev/ttyACM0\"\u001b[0m\u001b[0;34m,\u001b[0m \u001b[0mbaudrate\u001b[0m\u001b[0;34m=\u001b[0m\u001b[0;36m1000000\u001b[0m\u001b[0;34m,\u001b[0m \u001b[0mtimeout\u001b[0m\u001b[0;34m=\u001b[0m\u001b[0;36m5\u001b[0m\u001b[0;34m)\u001b[0m\u001b[0;34m\u001b[0m\u001b[0;34m\u001b[0m\u001b[0m\n\u001b[0m",
      "\u001b[0;31mNameError\u001b[0m: name 'serial' is not defined"
     ]
    }
   ],
   "source": [
    "ser = serial.Serial(\"/dev/ttyACM0\", baudrate=1000000, timeout=5)"
   ]
  },
  {
   "cell_type": "code",
   "execution_count": 15,
   "id": "c3138659",
   "metadata": {},
   "outputs": [
    {
     "name": "stdout",
     "output_type": "stream",
     "text": [
      "Found timer TIM2, pin: d6, port: pb10\n",
      "Found timer TIM5, pin: a0, port: pa0\n",
      "Found GPIOA\n"
     ]
    },
    {
     "ename": "NameError",
     "evalue": "name 'ser' is not defined",
     "output_type": "error",
     "traceback": [
      "\u001b[0;31m---------------------------------------------------------------------------\u001b[0m",
      "\u001b[0;31mNameError\u001b[0m                                 Traceback (most recent call last)",
      "\u001b[0;32m<ipython-input-15-8119d649c52f>\u001b[0m in \u001b[0;36m<module>\u001b[0;34m\u001b[0m\n\u001b[1;32m     27\u001b[0m \u001b[0mprog\u001b[0m \u001b[0;34m=\u001b[0m \u001b[0mpg\u001b[0m\u001b[0;34m.\u001b[0m\u001b[0mgenerate_program\u001b[0m\u001b[0;34m(\u001b[0m\u001b[0;34m[\u001b[0m\u001b[0mgpa\u001b[0m\u001b[0;34m,\u001b[0m \u001b[0mtim2\u001b[0m\u001b[0;34m,\u001b[0m \u001b[0mtim5\u001b[0m\u001b[0;34m]\u001b[0m\u001b[0;34m)\u001b[0m\u001b[0;34m\u001b[0m\u001b[0;34m\u001b[0m\u001b[0m\n\u001b[1;32m     28\u001b[0m \u001b[0;31m# send the program to microntroller\u001b[0m\u001b[0;34m\u001b[0m\u001b[0;34m\u001b[0m\u001b[0;34m\u001b[0m\u001b[0m\n\u001b[0;32m---> 29\u001b[0;31m \u001b[0msend_program\u001b[0m\u001b[0;34m(\u001b[0m\u001b[0mser\u001b[0m\u001b[0;34m,\u001b[0m \u001b[0mprog\u001b[0m\u001b[0;34m)\u001b[0m\u001b[0;34m\u001b[0m\u001b[0;34m\u001b[0m\u001b[0m\n\u001b[0m\u001b[1;32m     30\u001b[0m \u001b[0;31m# and start its execution:\u001b[0m\u001b[0;34m\u001b[0m\u001b[0;34m\u001b[0m\u001b[0;34m\u001b[0m\u001b[0m\n\u001b[1;32m     31\u001b[0m \u001b[0mstart_execution\u001b[0m\u001b[0;34m(\u001b[0m\u001b[0;34m)\u001b[0m\u001b[0;34m\u001b[0m\u001b[0;34m\u001b[0m\u001b[0m\n",
      "\u001b[0;31mNameError\u001b[0m: name 'ser' is not defined"
     ]
    }
   ],
   "source": [
    "tim2 = TIM(\"TIM2\")\n",
    "tim5 = TIM(\"TIM5\")\n",
    "gpa = GPIO(\"GPIOA\")\n",
    "\n",
    "# turn on both timers at time 100us from program start\n",
    "# tim2 at 20 kHz\n",
    "tim2.on_sync(20_000, 100)\n",
    "# and tim5 at 10 kHz\n",
    "tim5.on_sync(10_000, 100)\n",
    "# start them synchnously\n",
    "tim2.start_sync(100)\n",
    "\n",
    "# set 4th and 6th pins in GPIOA to high level at 120 us\n",
    "gpa.on([4, 8], 120)\n",
    "# then pin 4 to low level at 150 us\n",
    "gpa.off(4, 150)\n",
    "# and pin 6 at 900 us\n",
    "gpa.off(8, 900)\n",
    "\n",
    "# finally turn off the timers at 1000 us\n",
    "tim1.off_sync(1000)\n",
    "tim2.off_sync(1000)\n",
    "\n",
    "# instantiate program generator\n",
    "pg = ProgramGen()\n",
    "# and generate the program, providing it list of used HW\n",
    "prog = pg.generate_program([gpa, tim2, tim5])\n",
    "# send the program to microntroller\n",
    "send_program(ser, prog)\n",
    "# and start its execution:\n",
    "start_execution()"
   ]
  },
  {
   "cell_type": "code",
   "execution_count": 16,
   "id": "47f14b25",
   "metadata": {},
   "outputs": [
    {
     "name": "stdout",
     "output_type": "stream",
     "text": [
      "@ 90\n",
      "    TIM2->CR1           :0x40000000:0x0\n",
      "    TIM2->CCMR2_Output  :0x4000001c:0x30\n",
      "    TIM2->CCER          :0x40000020:0x100\n",
      "    TIM2->CNT           :0x40000024:0x7cf\n",
      "    TIM2->ARR           :0x4000002c:0x7cf\n",
      "    TIM5->CR1           :0x40000c00:0x0\n",
      "    TIM5->CCMR1_Output  :0x40000c18:0x30\n",
      "    TIM5->CCER          :0x40000c20:0x1\n",
      "    TIM5->CNT           :0x40000c24:0xf9f\n",
      "    TIM5->ARR           :0x40000c2c:0xf9f\n",
      "@ 100\n",
      "    TIM1->CR1           :0x40010000:0x1\n",
      "@ 101\n",
      "    TIM1->CR1           :0x40010000:0x0\n",
      "@ 120\n",
      "    GPIOA->ODR          :0x40020014:0x110\n",
      "@ 150\n",
      "    GPIOA->ODR          :0x40020014:0x100\n",
      "@ 900\n",
      "    GPIOA->ODR          :0x40020014:0x0\n",
      "@ 1000\n",
      "    TIM2->CR1           :0x40000000:0x0\n",
      "    TIM2->CCMR2_Output  :0x4000001c:0x40\n",
      "    TIM2->CCER          :0x40000020:0x0\n"
     ]
    }
   ],
   "source": [
    "pg.print_program()"
   ]
  },
  {
   "cell_type": "code",
   "execution_count": 6,
   "id": "71526f1a",
   "metadata": {
    "scrolled": false
   },
   "outputs": [
    {
     "name": "stdout",
     "output_type": "stream",
     "text": [
      "Found timer TIM3, pin: d4, port: pb5\n",
      "Found timer TIM8, pin: d9, port: pc7\n",
      "Found GPIOA\n",
      "@ 120\n",
      "    GPIOA->ODR          :0x40020014:0x10\n",
      "@ 150\n",
      "    GPIOA->ODR          :0x40020014:0x0\n"
     ]
    }
   ],
   "source": [
    "tim1 = TIM(\"d4\")\n",
    "tim2 = TIM(\"d9\")\n",
    "\n",
    "tim1.on_sync(20_000, 100)\n",
    "tim2.on_sync(10_000, 100)\n",
    "\n",
    "tim1.start_sync(100)\n",
    "\n",
    "gp = GPIO(\"gpioa\")\n",
    "\n",
    "gp.on([4,], 120)\n",
    "gp.off([4,], 150)\n",
    "\n",
    "tim1.off_sync(1000)\n",
    "tim2.off_sync(1000)\n",
    "\n",
    "\n",
    "pg = ProgramGen()\n",
    "\n",
    "prog = pg.generate_program([gp])#, tim2, tim3, gp])\n",
    "\n",
    "pg.print_program()"
   ]
  },
  {
   "cell_type": "code",
   "execution_count": 673,
   "id": "83ff00cd",
   "metadata": {},
   "outputs": [
    {
     "name": "stdout",
     "output_type": "stream",
     "text": [
      "Found timer TIM2, pin: d6, port: pb10\n",
      "Found timer TIM3, pin: d4, port: pb5\n",
      "@ 90\n",
      "    TIM2->CR1           :0x40000000:0x0\n",
      "    TIM2->CCMR2_Output  :0x4000001c:0x30\n",
      "    TIM2->CCER          :0x40000020:0x100\n",
      "    TIM2->CNT           :0x40000024:0x1387\n",
      "    TIM2->ARR           :0x4000002c:0x1387\n",
      "    TIM3->CR1           :0x40000400:0x0\n",
      "    TIM3->CCMR1_Output  :0x40000418:0x3000\n",
      "    TIM3->CCER          :0x40000420:0x10\n",
      "    TIM3->CNT           :0x40000424:0x9c3\n",
      "    TIM3->ARR           :0x4000042c:0x9c3\n",
      "@ 100\n",
      "    TIM1->CR1           :0x40010000:0x1\n",
      "@ 101\n",
      "    TIM1->CR1           :0x40010000:0x0\n",
      "@ 1000\n",
      "    TIM2->CR1           :0x40000000:0x0\n",
      "    TIM2->CCMR2_Output  :0x4000001c:0x40\n",
      "    TIM3->CR1           :0x40000400:0x0\n",
      "    TIM3->CCMR1_Output  :0x40000418:0x4000\n"
     ]
    }
   ],
   "source": [
    "tim1 = TIM(\"tim2\")\n",
    "tim2 = TIM(\"tim3\")\n",
    "\n",
    "tim1.on_sync(8_000, 100)\n",
    "tim2.on_sync(16_000, 100)\n",
    "\n",
    "tim1.start_sync(100)\n",
    "\n",
    "# gp = GPIO(\"gpioa\")\n",
    "\n",
    "# gp.on([4,], 120)\n",
    "# gp.off([4,], 150)\n",
    "\n",
    "# tim1.change_freq(40_000, 600)\n",
    "# tim2.change_freq(40_000, 600)\n",
    "\n",
    "\n",
    "tim1.off_sync(1000)\n",
    "tim2.off_sync(1000)\n",
    "\n",
    "\n",
    "pg = ProgramGen()\n",
    "\n",
    "prog = pg.generate_program([tim1, tim2])#, tim2, tim3, gp])\n",
    "\n",
    "pg.print_program()"
   ]
  },
  {
   "cell_type": "code",
   "execution_count": 7,
   "id": "8c3ccbb2",
   "metadata": {},
   "outputs": [
    {
     "ename": "NameError",
     "evalue": "name 'ser' is not defined",
     "output_type": "error",
     "traceback": [
      "\u001b[0;31m---------------------------------------------------------------------------\u001b[0m",
      "\u001b[0;31mNameError\u001b[0m                                 Traceback (most recent call last)",
      "\u001b[0;32m<ipython-input-7-9b971d2dc87c>\u001b[0m in \u001b[0;36m<module>\u001b[0;34m\u001b[0m\n\u001b[0;32m----> 1\u001b[0;31m \u001b[0msend_program\u001b[0m\u001b[0;34m(\u001b[0m\u001b[0mser\u001b[0m\u001b[0;34m,\u001b[0m \u001b[0mprog\u001b[0m\u001b[0;34m)\u001b[0m\u001b[0;34m;\u001b[0m \u001b[0mstart_execution\u001b[0m\u001b[0;34m(\u001b[0m\u001b[0mser\u001b[0m\u001b[0;34m)\u001b[0m\u001b[0;34m\u001b[0m\u001b[0;34m\u001b[0m\u001b[0m\n\u001b[0m",
      "\u001b[0;31mNameError\u001b[0m: name 'ser' is not defined"
     ]
    }
   ],
   "source": [
    "send_program(ser, prog); start_execution(ser)"
   ]
  },
  {
   "cell_type": "code",
   "execution_count": null,
   "id": "1e0d09cf",
   "metadata": {},
   "outputs": [],
   "source": []
  }
 ],
 "metadata": {
  "kernelspec": {
   "display_name": "Python 3",
   "language": "python",
   "name": "python3"
  },
  "language_info": {
   "codemirror_mode": {
    "name": "ipython",
    "version": 3
   },
   "file_extension": ".py",
   "mimetype": "text/x-python",
   "name": "python",
   "nbconvert_exporter": "python",
   "pygments_lexer": "ipython3",
   "version": "3.8.5"
  }
 },
 "nbformat": 4,
 "nbformat_minor": 5
}
