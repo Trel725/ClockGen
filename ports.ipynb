{
 "cells": [
  {
   "cell_type": "code",
   "execution_count": 1,
   "id": "5348140f",
   "metadata": {},
   "outputs": [],
   "source": [
    "import natsort\n",
    "import collections\n",
    "import pandas as pd\n",
    "from itertools import product"
   ]
  },
  {
   "cell_type": "code",
   "execution_count": 2,
   "id": "f486c863",
   "metadata": {},
   "outputs": [],
   "source": [
    "ports = \"pa0 pa1 pa4 pb0 pc1 pc0 pb8 pb9 pa5 pa6 pa7 pb6 pc7 pa9 pa8 pb10 pb4 pb5 pb3 pa10 pa2 pa3\".split(\" \")\n",
    "pins_ard = \"a0 a1 a2 a3 a4 a5 d15 d14 d13 d12 d11 d10 d9 d8 d7 d6 d5 d4 d3 d2 d1 d0\".split(\" \")"
   ]
  },
  {
   "cell_type": "code",
   "execution_count": 3,
   "id": "39af2c56",
   "metadata": {},
   "outputs": [],
   "source": [
    "port_pin_map = dict(zip(ports, pins_ard))\n",
    "pin_port_map = dict(zip(pins_ard, ports))"
   ]
  },
  {
   "cell_type": "code",
   "execution_count": 4,
   "id": "3430f3ba",
   "metadata": {},
   "outputs": [],
   "source": [
    "timers = \"pa0 2/1 5/1, pa1 2/2 5/2, pb0 1/2n 8/2n 3/3, pb8 10/1 2/1 4/3, pb9 11/1 2/2 4/4, pa5 2/1 8/1n, \\\n",
    "pa6 13/1 3/1, pa7 14/1 3/2 8/1, pb6 4/1, pc7 3/2 8/2, pa9 1/2, pa8 1/1, pb10 2/3, pb4 3/1, pb5 3/2, pa10 1/3\".split(\",\")"
   ]
  },
  {
   "cell_type": "code",
   "execution_count": 5,
   "id": "820a6317",
   "metadata": {},
   "outputs": [],
   "source": [
    "def parse(t):\n",
    "    t = t.strip().split(\" \")\n",
    "    return port_pin_map[t[0]], t[1:]"
   ]
  },
  {
   "cell_type": "code",
   "execution_count": 6,
   "id": "0a06d072",
   "metadata": {},
   "outputs": [],
   "source": [
    "pin_tim_map = {parse(t)[0]:parse(t)[1] for t in timers}"
   ]
  },
  {
   "cell_type": "code",
   "execution_count": 7,
   "id": "0aa57502",
   "metadata": {},
   "outputs": [
    {
     "name": "stdout",
     "output_type": "stream",
     "text": [
      "a0 ['2/1', '5/1']\n",
      "a1 ['2/2', '5/2']\n",
      "a3 ['1/2n', '8/2n', '3/3']\n",
      "d10 ['4/1']\n",
      "d11 ['14/1', '3/2', '8/1']\n",
      "d12 ['13/1', '3/1']\n",
      "d13 ['2/1', '8/1n']\n",
      "d14 ['11/1', '2/2', '4/4']\n",
      "d15 ['10/1', '2/1', '4/3']\n",
      "d2 ['1/3']\n",
      "d4 ['3/2']\n",
      "d5 ['3/1']\n",
      "d6 ['2/3']\n",
      "d7 ['1/1']\n",
      "d8 ['1/2']\n",
      "d9 ['3/2', '8/2']\n"
     ]
    }
   ],
   "source": [
    "for k in sorted(pin_tim_map):\n",
    "    print(k, pin_tim_map[k])"
   ]
  },
  {
   "cell_type": "code",
   "execution_count": 9,
   "id": "1ad70d31",
   "metadata": {},
   "outputs": [],
   "source": [
    "t = [list(product([key], pin_tim_map[key])) for key in pin_tim_map]\n",
    "flat_mapping = [item for sublist in t for item in sublist]\n",
    "\n",
    "df_pin_tim = pd.DataFrame(flat_mapping, columns=(\"pin\", \"tim\"))\n",
    "\n",
    "df_pin_tim[['tim', 'chan']] = pd.DataFrame(df_pin_tim['tim'].apply(lambda x: x.split(\"/\")).to_list())\n",
    "\n",
    "df_pin_tim['pin'] = df_pin_tim['pin'].apply(lambda x: x.replace(\"a\", \"x\"))\n",
    "\n",
    "df_pin_tim['tim'] = df_pin_tim['tim'].astype(int)"
   ]
  },
  {
   "cell_type": "code",
   "execution_count": 10,
   "id": "465a085a",
   "metadata": {},
   "outputs": [
    {
     "name": "stdout",
     "output_type": "stream",
     "text": [
      "{1: 'd2', 2: 'd6', 3: 'd4', 4: 'd10', 5: 'x0', 8: 'd9', 10: 'd15', 11: 'd14', 13: 'd12', 14: 'd11'}\n"
     ]
    }
   ],
   "source": [
    "data = df_pin_tim.groupby('tim')['pin'].apply(lambda x: list(natsort.natsorted(x))).to_dict()\n",
    "\n",
    "list_tims = df_pin_tim.tim.unique()\n",
    "list_tims.sort()\n",
    "\n",
    "assigned = {}\n",
    "\n",
    "def solve(tim_idx):\n",
    "    tim = list_tims[tim_idx]\n",
    "    this_pin_timers = data[tim]\n",
    "    selected_pin = this_pin_timers[0]\n",
    "    assigned[tim] = selected_pin\n",
    "    for key in data:\n",
    "        if selected_pin in data[key]:\n",
    "            data[key].remove(selected_pin)\n",
    "    if tim_idx < len(list_tims) - 1:\n",
    "        solve(tim_idx + 1)\n",
    "        \n",
    "solve(0)\n",
    "print(assigned)"
   ]
  },
  {
   "cell_type": "code",
   "execution_count": 49,
   "id": "82bed905",
   "metadata": {},
   "outputs": [],
   "source": [
    "synchronizable = [1, 2, 3, 4, 5, 8]"
   ]
  },
  {
   "cell_type": "code",
   "execution_count": 54,
   "id": "d6cad410",
   "metadata": {},
   "outputs": [],
   "source": [
    "res = []\n",
    "for idx, (k, v) in enumerate(assigned.items()):\n",
    "    res.append((df_pin_tim[(df_pin_tim.tim == k) & (df_pin_tim.pin == v)]).values[0])\n",
    "    \n",
    "res = pd.DataFrame(res, columns=['pin', 'tim', 'chan'])\n",
    "\n",
    "res['pin'] = res['pin'].apply(lambda x: x.replace(\"x\", \"a\"))\n",
    "res['port'] = res['pin'].apply(lambda x: pin_port_map[x])\n",
    "res['chan'] = res['chan'].astype(int)\n",
    "res['sync'] = res['tim'].apply(lambda x: x in synchronizable)\n",
    "res = res.reset_index().rename(columns={'index': \"channel\"})"
   ]
  },
  {
   "cell_type": "code",
   "execution_count": 55,
   "id": "4b703b9f",
   "metadata": {},
   "outputs": [],
   "source": [
    "with open(\"pin_mapping.json\", \"w\") as f:\n",
    "    res.to_json(f, indent=4)"
   ]
  },
  {
   "cell_type": "code",
   "execution_count": 56,
   "id": "11d1bcd2",
   "metadata": {},
   "outputs": [],
   "source": [
    "res.to_csv('channel_mapping.csv', index=None)"
   ]
  }
 ],
 "metadata": {
  "kernelspec": {
   "display_name": "Python 3",
   "language": "python",
   "name": "python3"
  },
  "language_info": {
   "codemirror_mode": {
    "name": "ipython",
    "version": 3
   },
   "file_extension": ".py",
   "mimetype": "text/x-python",
   "name": "python",
   "nbconvert_exporter": "python",
   "pygments_lexer": "ipython3",
   "version": "3.8.5"
  }
 },
 "nbformat": 4,
 "nbformat_minor": 5
}
