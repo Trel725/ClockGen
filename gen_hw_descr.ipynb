{
 "cells": [
  {
   "cell_type": "code",
   "execution_count": 38,
   "id": "bb4b8ad7",
   "metadata": {},
   "outputs": [],
   "source": [
    "from cmsis_svd.parser import SVDParser\n",
    "import json\n",
    "parser = SVDParser.for_packaged_svd(\"STMicro\", \"STM32F446x.svd\")\n",
    "dev = parser.get_device()\n",
    "peripherals = dev.to_dict()['peripherals']\n",
    "\n",
    "\n",
    "res = {}\n",
    "for per in peripherals:\n",
    "    res[per['name']] = {r['name']:dict(r, **{'address': per['base_address'] + r['address_offset']}) \n",
    "                        for r in per['registers']}\n",
    "\n",
    "with open(\"hw_desc.json\", \"w\") as f:\n",
    "    json.dump(res, f, indent=4)"
   ]
  }
 ],
 "metadata": {
  "kernelspec": {
   "display_name": "Python 3",
   "language": "python",
   "name": "python3"
  },
  "language_info": {
   "codemirror_mode": {
    "name": "ipython",
    "version": 3
   },
   "file_extension": ".py",
   "mimetype": "text/x-python",
   "name": "python",
   "nbconvert_exporter": "python",
   "pygments_lexer": "ipython3",
   "version": "3.8.5"
  }
 },
 "nbformat": 4,
 "nbformat_minor": 5
}
