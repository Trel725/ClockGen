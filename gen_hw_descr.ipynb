{
 "cells": [
  {
   "cell_type": "code",
   "execution_count": 1,
   "id": "bb4b8ad7",
   "metadata": {},
   "outputs": [],
   "source": [
    "from cmsis_svd.parser import SVDParser\n",
    "import json\n",
    "import serial\n",
    "parser = SVDParser.for_packaged_svd(\"STMicro\", \"STM32F446x.svd\")\n",
    "dev = parser.get_device()\n",
    "peripherals = dev.to_dict()['peripherals']\n",
    "\n",
    "def reshape_dict(register, periphery):\n",
    "    register['fields'] = {field['name']:field for field in register['fields']}\n",
    "    register['address'] = periphery['base_address'] + register['address_offset']\n",
    "    return register\n",
    "\n",
    "res = {}\n",
    "for per in peripherals:\n",
    "    res[per['name']] = {r['name']:reshape_dict(r, per) for r in per['registers']}\n",
    "\n",
    "%load_ext autoreload\n",
    "\n",
    "%autoreload 2\n"
   ]
  },
  {
   "cell_type": "code",
   "execution_count": 14,
   "id": "8ba9d7ca",
   "metadata": {},
   "outputs": [],
   "source": [
    "with open(\"hw_desc.json\", \"w\") as f:\n",
    "    json.dump(res, f, indent=4)"
   ]
  }
 ],
 "metadata": {
  "kernelspec": {
   "display_name": "Python 3",
   "language": "python",
   "name": "python3"
  },
  "language_info": {
   "codemirror_mode": {
    "name": "ipython",
    "version": 3
   },
   "file_extension": ".py",
   "mimetype": "text/x-python",
   "name": "python",
   "nbconvert_exporter": "python",
   "pygments_lexer": "ipython3",
   "version": "3.8.5"
  }
 },
 "nbformat": 4,
 "nbformat_minor": 5
}
