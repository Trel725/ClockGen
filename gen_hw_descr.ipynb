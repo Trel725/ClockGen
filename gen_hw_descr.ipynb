{
 "cells": [
  {
   "cell_type": "code",
   "execution_count": 9,
   "id": "bb4b8ad7",
   "metadata": {},
   "outputs": [],
   "source": [
    "from cmsis_svd.parser import SVDParser\n",
    "import json\n",
    "parser = SVDParser.for_packaged_svd(\"STMicro\", \"STM32F446x.svd\")\n",
    "dev = parser.get_device()\n",
    "peripherals = dev.to_dict()['peripherals']\n",
    "\n",
    "def reshape_dict(register, periphery):\n",
    "    register['fields'] = {field['name']:field for field in register['fields']}\n",
    "    register['address'] = periphery['base_address'] + register['address_offset']\n",
    "    return register\n",
    "\n",
    "res = {}\n",
    "for per in peripherals:\n",
    "    res[per['name']] = {r['name']:reshape_dict(r, per) for r in per['registers']}"
   ]
  },
  {
   "cell_type": "code",
   "execution_count": 22,
   "id": "82e5474d",
   "metadata": {},
   "outputs": [
    {
     "data": {
      "text/plain": [
       "[]"
      ]
     },
     "execution_count": 22,
     "metadata": {},
     "output_type": "execute_result"
    }
   ],
   "source": [
    "tim2 = Periph('TIM2', res)\n",
    "tim2.get_modified_regs()"
   ]
  },
  {
   "cell_type": "code",
   "execution_count": 44,
   "id": "ce280dea",
   "metadata": {},
   "outputs": [],
   "source": [
    "tim10 = Periph(\"TIM10\", res)"
   ]
  },
  {
   "cell_type": "code",
   "execution_count": 45,
   "id": "7c3956fe",
   "metadata": {},
   "outputs": [
    {
     "data": {
      "text/plain": [
       "{'CC1NP': {'name': 'CC1NP',\n",
       "  'derived_from': None,\n",
       "  'description': 'Capture/Compare 1 output\\n              Polarity',\n",
       "  'bit_offset': 3,\n",
       "  'bit_width': 1,\n",
       "  'access': None,\n",
       "  'enumerated_values': None,\n",
       "  'modified_write_values': None,\n",
       "  'read_action': None},\n",
       " 'CC1P': {'name': 'CC1P',\n",
       "  'derived_from': None,\n",
       "  'description': 'Capture/Compare 1 output\\n              Polarity',\n",
       "  'bit_offset': 1,\n",
       "  'bit_width': 1,\n",
       "  'access': None,\n",
       "  'enumerated_values': None,\n",
       "  'modified_write_values': None,\n",
       "  'read_action': None},\n",
       " 'CC1E': {'name': 'CC1E',\n",
       "  'derived_from': None,\n",
       "  'description': 'Capture/Compare 1 output\\n              enable',\n",
       "  'bit_offset': 0,\n",
       "  'bit_width': 1,\n",
       "  'access': None,\n",
       "  'enumerated_values': None,\n",
       "  'modified_write_values': None,\n",
       "  'read_action': None}}"
      ]
     },
     "execution_count": 45,
     "metadata": {},
     "output_type": "execute_result"
    }
   ],
   "source": [
    "tim10.CCER.fields"
   ]
  },
  {
   "cell_type": "code",
   "execution_count": 32,
   "id": "52c5220d",
   "metadata": {},
   "outputs": [
    {
     "data": {
      "text/plain": [
       "{'name': 'CC1E',\n",
       " 'derived_from': None,\n",
       " 'description': 'Capture/Compare 1 output\\n              enable',\n",
       " 'bit_offset': 0,\n",
       " 'bit_width': 1,\n",
       " 'access': None,\n",
       " 'enumerated_values': None,\n",
       " 'modified_write_values': None,\n",
       " 'read_action': None}"
      ]
     },
     "execution_count": 32,
     "metadata": {},
     "output_type": "execute_result"
    }
   ],
   "source": [
    "tim2.CCER.fields['CC']"
   ]
  },
  {
   "cell_type": "code",
   "execution_count": 16,
   "id": "f1e32f78",
   "metadata": {},
   "outputs": [],
   "source": [
    "import json\n",
    "\n",
    "\n",
    "class Register(object):\n",
    "    '''\n",
    "    Class, holding description for low-level C-like registers,\n",
    "    described by desc (generated from SVD file)\n",
    "\n",
    "        main usage:\n",
    "        1. create instance\n",
    "        gpioa = Register(hw_desc['GPIOA']['ODR'])\n",
    "        2. use set_field to set bit values. This function supports\n",
    "        both setting and resetting, i.e.\n",
    "        gpioa.set_field(gpioa.ODR10, 1)\n",
    "        gpioa.set_field(gpioa.ODR10, 0)\n",
    "\n",
    "    '''\n",
    "\n",
    "    def __init__(self, desc):\n",
    "        self.desc = desc\n",
    "        for key in desc:\n",
    "            setattr(self, key, desc[key])\n",
    "\n",
    "        for field in desc['fields']:\n",
    "            setattr(self, field, desc['fields'][field])\n",
    "\n",
    "        self.value = self.reset_value\n",
    "\n",
    "    def __repr__(self):\n",
    "        c = \"Instance of class Register:\\n\"\n",
    "        return c + \"{\" + \"\\n\".join(\"{!r}: {!r},\"\n",
    "                               .format(k, v) for k, v in self.desc.items()) + \"}\"\n",
    "\n",
    "    def validate(self, offset, bit_width):\n",
    "        assert offset + bit_width < self.size, \\\n",
    "            \"Trying to set bits off register\"\n",
    "        assert \"write\" in self.access, \\\n",
    "            \"Trying to modify read-only register\"\n",
    "        assert ((((2**bit_width) - 1) << offset) & (~self.reset_mask)) == 0, \\\n",
    "            \"Trying to set bits on read-only positions\"\n",
    "\n",
    "    def set_bit(self, offset):\n",
    "        self.validate(offset, 1)\n",
    "        self.value = self.value | (1 << offset)\n",
    "\n",
    "    def reset_bit(self, offset):\n",
    "        self.validate(offset, 1)\n",
    "        self.value = self.value & ~(1 << offset)\n",
    "\n",
    "    def set_bits(self, offset, bit_width, value):\n",
    "        self.validate(offset, bit_width)\n",
    "        self.value = self.value | (value << offset)\n",
    "\n",
    "    def reset_bits(self, offset, bit_width):\n",
    "        self.validate(offset, bit_width)\n",
    "        self.value = self.value & ~(((2**bit_width) - 1) << offset)\n",
    "\n",
    "    def set_field(self, field, value):\n",
    "        offset = field['bit_offset']\n",
    "        width = field['bit_width']\n",
    "        self.reset_bits(offset, width)\n",
    "        self.set_bits(offset, width, value)\n",
    "\n",
    "    def reset_value(self):\n",
    "        self.value = self.reset_value\n",
    "\n",
    "\n",
    "class Periph(object):\n",
    "    \"\"\"Base class for uC peripherals\"\"\"\n",
    "\n",
    "    def __init__(self, name, hw_desc):\n",
    "        super(Periph, self).__init__()\n",
    "        # with open(hw_desc, \"r\") as f:\n",
    "        #    self.hw_desc = json.load(f)\n",
    "        self.hw_desc = hw_desc\n",
    "        self.name = name\n",
    "        self.registers = hw_desc[name]\n",
    "        regs = {}\n",
    "        for regname, regdata in self.registers.items():\n",
    "            reg = Register(regdata)\n",
    "            setattr(self, regname, reg)\n",
    "            regs[regname] = reg\n",
    "        self.registers = regs\n",
    "\n",
    "    def get_modified_regs(self):\n",
    "        return [reg for reg in self.registers if reg.value != reg.reset_value]\n"
   ]
  },
  {
   "cell_type": "code",
   "execution_count": 14,
   "id": "7bf11ccd",
   "metadata": {},
   "outputs": [],
   "source": [
    "with open(\"hw_desc.json\", \"w\") as f:\n",
    "    json.dump(res, f, indent=4)"
   ]
  }
 ],
 "metadata": {
  "kernelspec": {
   "display_name": "Python 3",
   "language": "python",
   "name": "python3"
  },
  "language_info": {
   "codemirror_mode": {
    "name": "ipython",
    "version": 3
   },
   "file_extension": ".py",
   "mimetype": "text/x-python",
   "name": "python",
   "nbconvert_exporter": "python",
   "pygments_lexer": "ipython3",
   "version": "3.8.5"
  }
 },
 "nbformat": 4,
 "nbformat_minor": 5
}
