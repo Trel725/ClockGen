{
 "cells": [
  {
   "cell_type": "code",
   "execution_count": 1,
   "id": "cb3cea0e",
   "metadata": {},
   "outputs": [],
   "source": [
    "import serial\n",
    "\n",
    "from clockgen import Timer, Periph, ProgramGen, hw_desc\n",
    "from clockgen.interface import TIM, GPIO\n",
    "from clockgen.utils import send_program, start_execution\n"
   ]
  },
  {
   "cell_type": "code",
   "execution_count": 14,
   "id": "0a0506ff",
   "metadata": {},
   "outputs": [],
   "source": [
    "ser = serial.Serial(\"/dev/ttyACM1\", baudrate=1000000, timeout=5)"
   ]
  },
  {
   "cell_type": "code",
   "execution_count": 23,
   "id": "71526f1a",
   "metadata": {
    "scrolled": false
   },
   "outputs": [
    {
     "name": "stdout",
     "output_type": "stream",
     "text": [
      "Found GPIOA\n",
      "Found timer TIM3, pin: d4, port: pb5\n",
      "Found timer TIM2, pin: d6, port: pb10\n",
      "Found timer TIM4, pin: d10, port: pb6\n"
     ]
    }
   ],
   "source": [
    "gp = GPIO(\"gpioa\")\n",
    "tim2 = TIM(\"tim3\")\n",
    "tim1 = TIM(\"d6\")\n",
    "tim3 = TIM(\"d10\")\n",
    "\n",
    "tim1.on_sync(50_000, 100)\n",
    "tim2.on_sync(100_000, 100)\n",
    "\n",
    "tim1.start_sync(120)\n",
    "gp.on([1, 8], 120)\n",
    "gp.off([1, 8], 150)\n",
    "\n",
    "tim1.off_sync(1000)\n",
    "tim2.off_sync(1000)\n",
    "tim3.off(1500)\n"
   ]
  },
  {
   "cell_type": "code",
   "execution_count": 24,
   "id": "c1c47abf",
   "metadata": {},
   "outputs": [
    {
     "name": "stdout",
     "output_type": "stream",
     "text": [
      "@ 90\n",
      "    TIM2->CR1           :0x40000000:0x0\n",
      "    TIM2->CCMR2_Output  :0x4000001c:0x30\n",
      "    TIM2->CCER          :0x40000020:0x100\n",
      "    TIM2->CNT           :0x40000024:0x31f\n",
      "    TIM2->ARR           :0x4000002c:0x31f\n",
      "    TIM3->CR1           :0x40000400:0x0\n",
      "    TIM3->CCMR1_Output  :0x40000418:0x3000\n",
      "    TIM3->CCER          :0x40000420:0x10\n",
      "    TIM3->CNT           :0x40000424:0x18f\n",
      "    TIM3->ARR           :0x4000042c:0x18f\n",
      "@ 120\n",
      "    TIM1->CR1           :0x40010000:0x1\n",
      "    GPIOA->ODR          :0x40020014:0x102\n",
      "@ 121\n",
      "    TIM1->CR1           :0x40010000:0x0\n",
      "@ 150\n",
      "    GPIOA->ODR          :0x40020014:0x0\n",
      "@ 1000\n",
      "    TIM2->CR1           :0x40000000:0x0\n",
      "    TIM2->CCMR2_Output  :0x4000001c:0x40\n",
      "    TIM3->CR1           :0x40000400:0x0\n",
      "    TIM3->CCMR1_Output  :0x40000418:0x4000\n",
      "@ 1500\n",
      "    TIM4->CR1           :0x40000800:0x0\n",
      "    TIM4->CCMR1_Output  :0x40000818:0x40\n",
      "    TIM4->CCER          :0x40000820:0x1\n"
     ]
    }
   ],
   "source": [
    "pg = ProgramGen()\n",
    "\n",
    "prog = pg.generate_program([tim1, tim2, tim3, gp])\n",
    "\n",
    "pg.print_program()"
   ]
  },
  {
   "cell_type": "code",
   "execution_count": 28,
   "id": "8c3ccbb2",
   "metadata": {},
   "outputs": [],
   "source": [
    "send_program(ser, prog); start_execution(ser)"
   ]
  },
  {
   "cell_type": "code",
   "execution_count": null,
   "id": "1e0d09cf",
   "metadata": {},
   "outputs": [],
   "source": []
  }
 ],
 "metadata": {
  "kernelspec": {
   "display_name": "Python 3",
   "language": "python",
   "name": "python3"
  },
  "language_info": {
   "codemirror_mode": {
    "name": "ipython",
    "version": 3
   },
   "file_extension": ".py",
   "mimetype": "text/x-python",
   "name": "python",
   "nbconvert_exporter": "python",
   "pygments_lexer": "ipython3",
   "version": "3.8.5"
  }
 },
 "nbformat": 4,
 "nbformat_minor": 5
}
